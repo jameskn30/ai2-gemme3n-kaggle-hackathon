{
 "cells": [
  {
   "cell_type": "markdown",
   "id": "e632b4a9",
   "metadata": {},
   "source": [
    "# Loading Gemma3 and finetune"
   ]
  },
  {
   "cell_type": "code",
   "execution_count": 5,
   "id": "5abfb8cb",
   "metadata": {},
   "outputs": [
    {
     "name": "stdout",
     "output_type": "stream",
     "text": [
      "Using device: cuda\n",
      "Gemma3 model and tokenizer loaded successfully.\n"
     ]
    }
   ],
   "source": [
    "import torch\n",
    "\n",
    "# Check if GPU is available\n",
    "device = torch.device(\"cuda\" if torch.cuda.is_available() else \"cpu\")\n",
    "print(f\"Using device: {device}\")\n",
    "\n",
    "from transformers import AutoTokenizer, Gemma3ForCausalLM\n",
    "\n",
    "model = Gemma3ForCausalLM.from_pretrained(\"google/gemma-3-1b-pt\")\n",
    "tokenizer = AutoTokenizer.from_pretrained(\"google/gemma-3-1b-pt\")\n",
    "\n",
    "print(\"Gemma3 model and tokenizer loaded successfully.\")\n"
   ]
  },
  {
   "cell_type": "code",
   "execution_count": 6,
   "id": "f28e247d",
   "metadata": {},
   "outputs": [
    {
     "name": "stdout",
     "output_type": "stream",
     "text": [
      "Gemma3ForCausalLM(\n",
      "  (model): Gemma3TextModel(\n",
      "    (embed_tokens): Gemma3TextScaledWordEmbedding(262144, 1152, padding_idx=0)\n",
      "    (layers): ModuleList(\n",
      "      (0-25): 26 x Gemma3DecoderLayer(\n",
      "        (self_attn): Gemma3Attention(\n",
      "          (q_proj): Linear(in_features=1152, out_features=1024, bias=False)\n",
      "          (k_proj): Linear(in_features=1152, out_features=256, bias=False)\n",
      "          (v_proj): Linear(in_features=1152, out_features=256, bias=False)\n",
      "          (o_proj): Linear(in_features=1024, out_features=1152, bias=False)\n",
      "          (q_norm): Gemma3RMSNorm((256,), eps=1e-06)\n",
      "          (k_norm): Gemma3RMSNorm((256,), eps=1e-06)\n",
      "        )\n",
      "        (mlp): Gemma3MLP(\n",
      "          (gate_proj): Linear(in_features=1152, out_features=6912, bias=False)\n",
      "          (up_proj): Linear(in_features=1152, out_features=6912, bias=False)\n",
      "          (down_proj): Linear(in_features=6912, out_features=1152, bias=False)\n",
      "          (act_fn): PytorchGELUTanh()\n",
      "        )\n",
      "        (input_layernorm): Gemma3RMSNorm((1152,), eps=1e-06)\n",
      "        (post_attention_layernorm): Gemma3RMSNorm((1152,), eps=1e-06)\n",
      "        (pre_feedforward_layernorm): Gemma3RMSNorm((1152,), eps=1e-06)\n",
      "        (post_feedforward_layernorm): Gemma3RMSNorm((1152,), eps=1e-06)\n",
      "      )\n",
      "    )\n",
      "    (norm): Gemma3RMSNorm((1152,), eps=1e-06)\n",
      "    (rotary_emb): Gemma3RotaryEmbedding()\n",
      "    (rotary_emb_local): Gemma3RotaryEmbedding()\n",
      "  )\n",
      "  (lm_head): Linear(in_features=1152, out_features=262144, bias=False)\n",
      ")\n"
     ]
    }
   ],
   "source": [
    "print(model)"
   ]
  },
  {
   "cell_type": "markdown",
   "id": "fb273f25",
   "metadata": {},
   "source": [
    "# Explore tokenizer "
   ]
  },
  {
   "cell_type": "code",
   "execution_count": 7,
   "id": "3f12856d",
   "metadata": {},
   "outputs": [
    {
     "name": "stdout",
     "output_type": "stream",
     "text": [
      "Tokenizer vocab size: 262144\n",
      "First 10 tokens in the vocab:\n",
      "ID 0: <pad>\n",
      "ID 1: <eos>\n",
      "ID 2: <bos>\n",
      "ID 3: <unk>\n",
      "ID 4: <mask>\n",
      "ID 5: [multimodal]\n",
      "ID 6: <unused0>\n",
      "ID 7: <unused1>\n",
      "ID 8: <unused2>\n",
      "ID 9: <unused3>\n",
      "\n",
      "Special tokens:\n",
      "bos_token: <bos>\n",
      "eos_token: <eos>\n",
      "unk_token: <unk>\n",
      "pad_token: <pad>\n",
      "boi_token: <start_of_image>\n",
      "eoi_token: <end_of_image>\n",
      "image_token: <image_soft_token>\n",
      "\n",
      "Tokenizer config keys:\n",
      "vocab_file: /home/nguyen/.cache/huggingface/hub/models--google--gemma-3-1b-pt/snapshots/fcf18a2a879aab110ca39f8bffbccd5d49d8eb29/tokenizer.model\n",
      "clean_up_tokenization_spaces: False\n",
      "unk_token: <unk>\n",
      "bos_token: <bos>\n",
      "eos_token: <eos>\n",
      "pad_token: <pad>\n",
      "add_bos_token: True\n",
      "add_eos_token: False\n",
      "boi_token: <start_of_image>\n",
      "eoi_token: <end_of_image>\n",
      "extra_special_tokens: {'boi_token': '<start_of_image>', 'eoi_token': '<end_of_image>', 'image_token': '<image_soft_token>'}\n",
      "image_token: <image_soft_token>\n",
      "model_max_length: 1000000000000000019884624838656\n",
      "sp_model_kwargs: None\n",
      "spaces_between_special_tokens: False\n",
      "use_default_system_prompt: False\n",
      "name_or_path: google/gemma-3-1b-pt\n",
      "\n",
      "Sample text: Hello, how are you?\n",
      "Encoded: [2, 9259, 236764, 1217, 659, 611, 236881]\n",
      "Decoded: <bos>Hello, how are you?\n"
     ]
    }
   ],
   "source": [
    "# Explore the tokenizer\n",
    "\n",
    "# Print the vocab size\n",
    "print(f\"Tokenizer vocab size: {tokenizer.vocab_size}\")\n",
    "\n",
    "# Print the first 20 tokens in the vocab\n",
    "print(\"First 10 tokens in the vocab:\")\n",
    "for i in range(10):\n",
    "    token = tokenizer.convert_ids_to_tokens(i)\n",
    "    print(f\"ID {i}: {token}\")\n",
    "\n",
    "# Print special tokens\n",
    "print(\"\\nSpecial tokens:\")\n",
    "for name, token in tokenizer.special_tokens_map.items():\n",
    "    print(f\"{name}: {token}\")\n",
    "\n",
    "# Show the tokenizer config\n",
    "print(\"\\nTokenizer config keys:\")\n",
    "for key in tokenizer.init_kwargs:\n",
    "    print(f\"{key}: {tokenizer.init_kwargs[key]}\")\n",
    "\n",
    "# Try encoding and decoding a sample sentence\n",
    "sample_text = \"Hello, how are you?\"\n",
    "encoded = tokenizer.encode(sample_text)\n",
    "decoded = tokenizer.decode(encoded)\n",
    "print(f\"\\nSample text: {sample_text}\")\n",
    "print(f\"Encoded: {encoded}\")\n",
    "print(f\"Decoded: {decoded}\")\n"
   ]
  },
  {
   "cell_type": "markdown",
   "id": "31aca7e5",
   "metadata": {},
   "source": [
    "# Run inference"
   ]
  },
  {
   "cell_type": "code",
   "execution_count": 4,
   "id": "7e418cdf",
   "metadata": {},
   "outputs": [
    {
     "name": "stdout",
     "output_type": "stream",
     "text": [
      "Prompt: describe what you can do\n",
      "Generated response:  to make the world a better placeIf you have an interest in helping the world then why not start by becoming a part of the solution. One of the best ways to make the world a better place is by starting a non-profit organisation. Non-profits are organisations that are not-for-profit and are registered with the Department of Home Affairs. The Department of Home Affairs is responsible for registering and monitoring non-profits in South Africa. The non-profit status gives the organisation legal protection and allows it to receive tax-exempt status from the South African Revenue Service (SARS).\n",
      "\n",
      "Non-profits are registered under the Non-\n"
     ]
    }
   ],
   "source": [
    "# Run inference on the Gemma3 model with the prompt \"describe what you can do\"\n",
    "\n",
    "prompt = \"describe what you can do\"\n",
    "\n",
    "# Tokenize the prompt and get input ids\n",
    "input_ids = tokenizer(prompt, return_tensors=\"pt\").input_ids\n",
    "\n",
    "# Generate output from the model\n",
    "with torch.no_grad():\n",
    "    output_ids = model.generate(\n",
    "        input_ids,\n",
    "        max_new_tokens=128,\n",
    "        do_sample=True,\n",
    "        temperature=0.7,\n",
    "        top_p=0.95,\n",
    "        eos_token_id=tokenizer.eos_token_id,\n",
    "        pad_token_id=tokenizer.pad_token_id,\n",
    "    )\n",
    "\n",
    "# Decode the generated output (skip the prompt part)\n",
    "generated_text = tokenizer.decode(output_ids[0][input_ids.shape[-1]:], skip_special_tokens=True)\n",
    "\n",
    "print(\"Prompt:\", prompt)\n",
    "print(\"Generated response:\", generated_text)\n"
   ]
  },
  {
   "cell_type": "code",
   "execution_count": null,
   "id": "3c513ac2",
   "metadata": {},
   "outputs": [],
   "source": []
  },
  {
   "cell_type": "code",
   "execution_count": null,
   "id": "80a91495",
   "metadata": {},
   "outputs": [],
   "source": []
  },
  {
   "cell_type": "code",
   "execution_count": null,
   "id": "e08f0d4a",
   "metadata": {},
   "outputs": [],
   "source": []
  }
 ],
 "metadata": {
  "kernelspec": {
   "display_name": "torch",
   "language": "python",
   "name": "python3"
  },
  "language_info": {
   "codemirror_mode": {
    "name": "ipython",
    "version": 3
   },
   "file_extension": ".py",
   "mimetype": "text/x-python",
   "name": "python",
   "nbconvert_exporter": "python",
   "pygments_lexer": "ipython3",
   "version": "3.12.2"
  }
 },
 "nbformat": 4,
 "nbformat_minor": 5
}
