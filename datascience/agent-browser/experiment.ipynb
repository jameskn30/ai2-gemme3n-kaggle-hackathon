{
 "cells": [
  {
   "cell_type": "markdown",
   "id": "769347a9",
   "metadata": {},
   "source": []
  },
  {
   "cell_type": "code",
   "execution_count": 1,
   "id": "64ed69af",
   "metadata": {},
   "outputs": [],
   "source": [
    "from browser_use.llm import ChatOpenAI, ChatOllama\n",
    "from browser_use import Agent, BrowserSession\n",
    "from dotenv import load_dotenv\n",
    "from ollama import Client\n",
    "import sys\n",
    "import os \n",
    "load_dotenv()\n",
    "import asyncio\n",
    "\n",
    "OPENAI_API_KEY = os.environ.get(\"OPENAI_API_KEY\")\n",
    "OLLAMA_HOST = \"http://localhost:11434\"\n",
    "# MODEL= \"deepseek-r1:latest\"  # Change this to your desired model\n",
    "MODEL= \"llama3.1:8b\"  # Change this to your desired model\n",
    "# MODEL= \"gemma3n:e4b\"  # Change this to your desired model\n",
    "# MODEL= \"gemma3:12b\"  # Change this to your desired model\n",
    "LOG_OUTPUT_DIR = f\"logs/conversation/{MODEL}\""
   ]
  },
  {
   "cell_type": "code",
   "execution_count": 2,
   "id": "c213cec6",
   "metadata": {},
   "outputs": [
    {
     "name": "stdout",
     "output_type": "stream",
     "text": [
      "('models', [Model(model='gemma3:12b', modified_at=datetime.datetime(2025, 7, 12, 11, 17, 25, 289671, tzinfo=TzInfo(-04:00)), digest='f4031aab637d1ffa37b42570452ae0e4fad0314754d17ded67322e4b95836f8a', size=8149190253, details=ModelDetails(parent_model='', format='gguf', family='gemma3', families=['gemma3'], parameter_size='12.2B', quantization_level='Q4_K_M')), Model(model='gemma3n:e4b', modified_at=datetime.datetime(2025, 7, 12, 11, 12, 9, 610739, tzinfo=TzInfo(-04:00)), digest='15cb39fd9394fd2549f6df9081cfc84dd134ecf2c9c5be911e5629920489ac32', size=7547589116, details=ModelDetails(parent_model='', format='gguf', family='gemma3n', families=['gemma3n'], parameter_size='6.9B', quantization_level='Q4_K_M')), Model(model='deepseek-r1:latest', modified_at=datetime.datetime(2025, 7, 12, 10, 46, 23, 986426, tzinfo=TzInfo(-04:00)), digest='6995872bfe4c521a67b32da386cd21d5c6e819b6e0d62f79f64ec83be99f5763', size=5225376047, details=ModelDetails(parent_model='', format='gguf', family='qwen3', families=['qwen3'], parameter_size='8.2B', quantization_level='Q4_K_M')), Model(model='gemma3n:latest', modified_at=datetime.datetime(2025, 7, 12, 10, 18, 53, 550321, tzinfo=TzInfo(-04:00)), digest='15cb39fd9394fd2549f6df9081cfc84dd134ecf2c9c5be911e5629920489ac32', size=7547589116, details=ModelDetails(parent_model='', format='gguf', family='gemma3n', families=['gemma3n'], parameter_size='6.9B', quantization_level='Q4_K_M')), Model(model='gemma3:4b', modified_at=datetime.datetime(2025, 7, 12, 10, 16, 58, 458194, tzinfo=TzInfo(-04:00)), digest='a2af6cc3eb7fa8be8504abaf9b04e88f17a119ec3f04a3addf55f92841195f5a', size=3338801804, details=ModelDetails(parent_model='', format='gguf', family='gemma3', families=['gemma3'], parameter_size='4.3B', quantization_level='Q4_K_M')), Model(model='llama3.1:8b', modified_at=datetime.datetime(2025, 2, 8, 11, 17, 43, 11404, tzinfo=TzInfo(-05:00)), digest='46e0c10c039e019119339687c3c1757cc81b9da49709a3b3924863ba87ca666e', size=4920753328, details=ModelDetails(parent_model='', format='gguf', family='llama', families=['llama'], parameter_size='8.0B', quantization_level='Q4_K_M')), Model(model='llama3.2:3b', modified_at=datetime.datetime(2025, 2, 3, 9, 32, 11, 979843, tzinfo=TzInfo(-05:00)), digest='a80c4f17acd55265feec403c7aef86be0c25983ab279d83f3bcd3abbcb5b8b72', size=2019393189, details=ModelDetails(parent_model='', format='gguf', family='llama', families=['llama'], parameter_size='3.2B', quantization_level='Q4_K_M'))])\n",
      "Connected successfully!\n"
     ]
    }
   ],
   "source": [
    "\n",
    "#Checking \n",
    "client = Client(host = OLLAMA_HOST)\n",
    "\n",
    "try:\n",
    "    for model in client.list() :\n",
    "        print(model)\n",
    "\n",
    "    print(\"Connected successfully!\")\n",
    "except Exception as e:\n",
    "    print(f\"Error: {e}\")\n",
    "    sys.exit(1)\n",
    "\n"
   ]
  },
  {
   "cell_type": "markdown",
   "id": "9e296576",
   "metadata": {},
   "source": [
    "# Agents"
   ]
  },
  {
   "cell_type": "code",
   "execution_count": null,
   "id": "66d49d7f",
   "metadata": {},
   "outputs": [
    {
     "name": "stdout",
     "output_type": "stream",
     "text": [
      "INFO     [browser_use.telemetry.service] Anonymized telemetry enabled. See https://docs.browser-use.com/development/telemetry for more information.\n",
      "INFO     [browser_use.agent.service] 💾 File system path: /var/folders/tt/r2rqxymj7j9352l2tmk5zj9c0000gn/T/browser_use_agent_06872a68-a82b-753d-8000-fd4bc96836dd\n",
      "INFO     [browser_use.Agent🅰 36dd on 🆂 36dd 🅟 76] 🧠 Starting a browser-use agent 0.5.4 with base_model=llama3.1:8b +vision extraction_model=llama3.1:8b +file_system\n",
      "INFO     [browser_use.Agent🅰 36dd on 🆂 1072 🅟 76] 💬 Saving conversation to ~/Desktop/ai2-gemme3n-kaggle-hackathon/datascience/agent-browser/logs/conversation/llama3.1:8b\n"
     ]
    }
   ],
   "source": [
    "browser_session = BrowserSession(\n",
    "    window_size={'width': 800, 'height': 600},\n",
    ")\n",
    "\n",
    "initial_actions = [\n",
    "    {'go_to_url': {'url': 'https://www.google.com', 'new_tab': True}},\n",
    "]\n",
    "\n",
    "# agent = Agent(\n",
    "#     task=\"Check the weather in Miami Florida\",\n",
    "#     llm = ChatOpenAI(model=\"gpt-4.1\", api_key=OPENAI_API_KEY),\n",
    "#     initial_actions=initial_actions,\n",
    "#     save_conversation_path='logs/conversation/gpt',\n",
    "# )\n",
    "\n",
    "# agent = Agent(\n",
    "#     task=\"Check the weather in Miami Florida\",\n",
    "#     llm = ChatOpenAI(model=\"gpt-4.1\", api_key=OPENAI_API_KEY),\n",
    "#     initial_actions=initial_actions,\n",
    "# )\n",
    "\n",
    "llm = ChatOllama(\n",
    "    host=OLLAMA_HOST,\n",
    "    model=MODEL)\n",
    "\n",
    "agent = Agent(\n",
    "    task=\"Check the weather in Miami Florida\",\n",
    "    save_conversation_path=LOG_OUTPUT_DIR,\n",
    "    llm=llm,\n",
    "    initial_actions=initial_actions,\n",
    "    browser_session=browser_session,\n",
    ")"
   ]
  },
  {
   "cell_type": "markdown",
   "id": "fddb4345",
   "metadata": {},
   "source": [
    "# Run the agent"
   ]
  },
  {
   "cell_type": "code",
   "execution_count": null,
   "id": "84504d4e",
   "metadata": {},
   "outputs": [
    {
     "name": "stdout",
     "output_type": "stream",
     "text": [
      "INFO     [browser_use.Agent🅰 36dd on 🆂 1072 🅟 76] 🚀 Starting task: Check the weather in Miami Florida\n",
      "INFO     [browser_use.BrowserSession🆂 1072:None #76] 🎭 Launching new local browser playwright:chromium keep_alive=False user_data_dir= ~/.config/browseruse/profiles/default\n",
      "INFO     [browser_use.BrowserSession🆂 1072:None #76]  ↳ Spawning Chrome subprocess listening on CDP http://127.0.0.1:57220/ with user_data_dir= ~/.config/browseruse/profiles/default\n",
      "INFO     [browser_use.BrowserSession🆂 1072:57220 #76] 🌎 Connecting to newly spawned browser via CDP http://127.0.0.1:57220/ -> browser_pid=35551 (local)\n",
      "INFO     [browser_use.BrowserSession🆂 1072:57220 #76] 👁️ Foregound tab changed by human from [0]about:blank ➡️ [1]google.com/ (agent will stay on [1]google.com/)\n",
      "INFO     [browser_use.controller.service] 🔗  Opened new tab #1 with url https://www.google.com\n",
      "INFO     [browser_use.Agent🅰 36dd on 🆂 1072 🅟 20] ☑️ Executed action 1/1: go_to_url()\n",
      "INFO     [browser_use.BrowserSession🆂 1072:57220 #76] ➡️ Page navigation [1]google.com/ took 0.52s\n",
      "INFO     [browser_use.Agent🅰 36dd on 🆂 1072 🅟 20] 📍 Step 2: Evaluating page with 21 interactive elements on: https://www.google.com/\n",
      "INFO     [browser_use.Agent🅰 36dd on 🆂 1072 🅟 20] ❔ Eval: None\n",
      "INFO     [browser_use.Agent🅰 36dd on 🆂 1072 🅟 20] 🧠 Memory: This is the beginning of our task sequence, and we need to navigate to a website that provides weather information. Our user request is to check the weather in Miami Florida.\n",
      "INFO     [browser_use.Agent🅰 36dd on 🆂 1072 🅟 20] 🎯 Next goal: Navigate to a website that provides weather information for Miami Florida, such as weather.com or accuweather.com\n",
      "\n",
      "INFO     [browser_use.controller.service] 🖱️ Clicked button with index 4: Images\n",
      "INFO     [browser_use.Agent🅰 36dd on 🆂 1072 🅟 20] ☑️ Executed action 1/1: click_element_by_index()\n",
      "INFO     [browser_use.Agent🅰 36dd on 🆂 1072 🅟 20] 📍 Step 2: Ran 1 actions in 7.66s: ✅ 1\n",
      "INFO     [browser_use.sync.auth] ────────────────────────────────────────\n",
      "INFO     [browser_use.sync.auth] 🌐  View the details of this run in Browser Use Cloud:\n",
      "INFO     [browser_use.sync.auth]     👉  https://cloud.browser-use.com/hotlink?user_code=F49AC8VYR9TU7R95\n",
      "INFO     [browser_use.sync.auth] ────────────────────────────────────────\n",
      "\n",
      "INFO     [browser_use.BrowserSession🆂 1072:57220 #76] ➡️ Page navigation [1]google.com/imghp?hl=en&ogbl took 0.52s\n",
      "INFO     [browser_use.Agent🅰 36dd on 🆂 1072 🅟 20] 📍 Step 3: Evaluating page with 15 interactive elements on: https://www.google.com/imghp?hl=en&ogbl\n",
      "INFO     [browser_use.Agent🅰 36dd on 🆂 1072 🅟 20] ⚠️ Eval: Failed to navigate directly to the website, instead landed on Google Images. Verdict: Failure\n",
      "INFO     [browser_use.Agent🅰 36dd on 🆂 1072 🅟 20] 🧠 Memory: We need to navigate to a website that provides weather information for Miami Florida. We are currently on Google Images. Our user request is to check the weather in Miami Florida.\n",
      "INFO     [browser_use.Agent🅰 36dd on 🆂 1072 🅟 20] 🎯 Next goal: Navigate back to the search bar and enter 'weather in Miami Florida' as a query to find relevant websites\n",
      "\n",
      "INFO     [browser_use.controller.service] ⌨️  Input Miami Florida weather into index 5\n",
      "INFO     [browser_use.Agent🅰 36dd on 🆂 1072 🅟 20] ☑️ Executed action 1/3: input_text()\n",
      "INFO     [browser_use.controller.service] ⌨️  Sent keys: \n",
      "\n",
      "INFO     [browser_use.Agent🅰 36dd on 🆂 1072 🅟 20] ☑️ Executed action 2/3: send_keys()\n",
      "INFO     [browser_use.BrowserSession🆂 1072:57220 #76] ➡️ Page navigation [1]google.com/search?q=Miami+Florida+weathe… took 1.24s\n",
      "INFO     [browser_use.agent.service] Element index changed after action 2 / 3, because page changed.\n",
      "INFO     [browser_use.Agent🅰 36dd on 🆂 1072 🅟 20] 📍 Step 3: Ran 3 actions in 8.35s: ✅ 3\n",
      "INFO     [browser_use.BrowserSession🆂 1072:57220 #76] ➡️ Page navigation [1]google.com/search?q=Miami+Florida+weathe… took 0.52s\n",
      "INFO     [browser_use.Agent🅰 36dd on 🆂 1072 🅟 20] 📍 Step 4: Evaluating page with 325 interactive elements on: https://www.google.com/search?q=Miami+Florida+weat...\n",
      "INFO     [browser_use.Agent🅰 36dd on 🆂 1072 🅟 20] ❔ Eval: None\n",
      "INFO     [browser_use.Agent🅰 36dd on 🆂 1072 🅟 20] 🧠 Memory: navigate to a website that provides weather information for Miami Florida. We are currently on Google Images.\n",
      "INFO     [browser_use.Agent🅰 36dd on 🆂 1072 🅟 20] 🎯 Next goal: Navigate back to the search bar and enter 'weather in Miami Florida' as a query to find relevant websites\n",
      "\n",
      "INFO     [browser_use.controller.service] 🖱️ Clicked button with index 5: \n",
      "INFO     [browser_use.Agent🅰 36dd on 🆂 1072 🅟 20] ☑️ Executed action 1/3: click_element_by_index()\n",
      "INFO     [browser_use.controller.service] ⌨️  Sent keys: Miami Florida weather\n",
      "INFO     [browser_use.Agent🅰 36dd on 🆂 1072 🅟 20] ☑️ Executed action 2/3: send_keys()\n",
      "INFO     [browser_use.controller.service] 🕒  Waiting for 2 seconds\n",
      "INFO     [browser_use.Agent🅰 36dd on 🆂 1072 🅟 20] ☑️ Executed action 3/3: wait()\n",
      "INFO     [browser_use.Agent🅰 36dd on 🆂 1072 🅟 20] 📍 Step 4: Ran 3 actions in 10.62s: ✅ 3\n",
      "INFO     [browser_use.BrowserSession🆂 1072:57220 #76] ➡️ Page navigation [1]google.com/search?q=Miami+Florida+weathe… took 0.53s\n",
      "\n",
      "\n",
      "⏸️  Got [Ctrl+C], paused the agent and left the browser open.\n",
      "\tPress [Enter] to resume or [Ctrl+C] again to quit.\n"
     ]
    },
    {
     "name": "stderr",
     "output_type": "stream",
     "text": [
      "----------------------------------------------------------------------\n"
     ]
    },
    {
     "name": "stdout",
     "output_type": "stream",
     "text": [
      "WARNING  [browser_use.BrowserSession🆂 1072:57220 #76] ✂️ Browser cdp_url=http://127.0.0.1:57220/ disconnected before BrowserSession.take_screenshot() could run... (error: TargetClosedError: BrowserContext.new_page: Target page, context or browser has been closed)\n",
      "WARNING  [bubus.helpers] take_screenshot failed (attempt 1/2): TargetClosedError: BrowserContext.new_page: Target page, context or browser has been closed. Waiting 1.0s before retry...\n",
      "INFO     [browser_use.BrowserSession🆂 1072:None #76] 🎭 Launching new local browser playwright:chromium keep_alive=False user_data_dir= ~/.config/browseruse/profiles/default\n",
      "INFO     [browser_use.BrowserSession🆂 1072:None #76]  ↳ Spawning Chrome subprocess listening on CDP http://127.0.0.1:57259/ with user_data_dir= ~/.config/browseruse/profiles/default\n",
      "INFO     [browser_use.BrowserSession🆂 1072:57259 #76] 🌎 Connecting to newly spawned browser via CDP http://127.0.0.1:57259/ -> browser_pid=35834 (local)\n",
      "WARNING  [browser_use.BrowserSession🆂 1072:57259 #76] ▫️ Sending LLM 1px placeholder instead of real screenshot of: about:blank (page empty)\n",
      "WARNING  [browser_use.BrowserSession🆂 1072:57259 #76] ✂️ Browser cdp_url=http://127.0.0.1:57259/ disconnected before BrowserSession.get_page_info() could run... (error: TargetClosedError: Page.evaluate: Target page, context or browser has been closed)\n",
      "ERROR    [browser_use.BrowserSession🆂 1072:None #76] ❌ Failed to update browser_state_summary: TargetClosedError: Page.evaluate: Target page, context or browser has been closed\n",
      "INFO     [browser_use.BrowserSession🆂 1072:None #76] 🎭 Launching new local browser playwright:chromium keep_alive=False user_data_dir= ~/.config/browseruse/profiles/default\n",
      "WARNING  [browser_use.BrowserSession🆂 1072:None #76] ⚠️ SingletonLock conflict detected. Profile at ~/.config/browseruse/profiles/default is locked. Using temporary profile instead: /var/folders/tt/r2rqxymj7j9352l2tmk5zj9c0000gn/T/browseruse-tmp-singleton-fzctmzv6\n",
      "INFO     [browser_use.BrowserSession🆂 1072:None #76]  ↳ Spawning Chrome subprocess listening on CDP http://127.0.0.1:57266/ with user_data_dir= /private/var/folders/tt/r2rqxymj7j9352l2tmk5zj9c0000gn/T/browseruse-tmp-singleton-fzctmzv6\n",
      "INFO     [browser_use.BrowserSession🆂 1072:57266 #76] 🌎 Connecting to newly spawned browser via CDP http://127.0.0.1:57266/ -> browser_pid=35883 (local)\n",
      "INFO     [browser_use.Agent🅰 36dd on 🆂 1072 🅟 04] 📍 Step 5: Evaluating page with 325 interactive elements on: about:blank\n",
      "ERROR    [browser_use.Agent🅰 36dd on 🆂 1072 🅟 04] ❌ Result failed 1/3 times:\n",
      " The agent was interrupted mid-step - \n",
      "INFO     [browser_use.Agent🅰 36dd on 🆂 1072 🅟 04] 📍 Step 4: Ran 1 actions in 8.62s: ❌ 1\n"
     ]
    }
   ],
   "source": [
    "# Run the agent\n",
    "async def main():\n",
    "\n",
    "    try:\n",
    "        result = await agent.run()\n",
    "    except Exception as e:\n",
    "        print(f\"An error occurred: {e}\")\n",
    "        result = None\n",
    "\n",
    "    print(result)\n",
    "\n",
    "# asyncio.run(main())\n",
    "await main()"
   ]
  },
  {
   "cell_type": "code",
   "execution_count": null,
   "id": "ee4f4021",
   "metadata": {},
   "outputs": [],
   "source": []
  },
  {
   "cell_type": "code",
   "execution_count": null,
   "id": "317d078a",
   "metadata": {},
   "outputs": [],
   "source": []
  },
  {
   "cell_type": "code",
   "execution_count": null,
   "id": "373a33c0",
   "metadata": {},
   "outputs": [],
   "source": []
  },
  {
   "cell_type": "code",
   "execution_count": null,
   "id": "643c38b6",
   "metadata": {},
   "outputs": [],
   "source": []
  },
  {
   "cell_type": "code",
   "execution_count": null,
   "id": "0b4bc51b",
   "metadata": {},
   "outputs": [],
   "source": []
  }
 ],
 "metadata": {
  "kernelspec": {
   "display_name": ".venv",
   "language": "python",
   "name": "python3"
  },
  "language_info": {
   "codemirror_mode": {
    "name": "ipython",
    "version": 3
   },
   "file_extension": ".py",
   "mimetype": "text/x-python",
   "name": "python",
   "nbconvert_exporter": "python",
   "pygments_lexer": "ipython3",
   "version": "3.13.5"
  }
 },
 "nbformat": 4,
 "nbformat_minor": 5
}
