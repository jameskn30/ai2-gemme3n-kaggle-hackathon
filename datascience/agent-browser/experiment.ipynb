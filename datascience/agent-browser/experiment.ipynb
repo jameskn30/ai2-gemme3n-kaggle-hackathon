{
 "cells": [
  {
   "cell_type": "markdown",
   "id": "769347a9",
   "metadata": {},
   "source": []
  },
  {
   "cell_type": "code",
   "execution_count": 5,
   "id": "64ed69af",
   "metadata": {},
   "outputs": [],
   "source": [
    "from browser_use.llm import ChatOpenAI, ChatOllama\n",
    "from browser_use import Agent, BrowserSession\n",
    "from dotenv import load_dotenv\n",
    "from ollama import Client\n",
    "import sys\n",
    "import os \n",
    "load_dotenv()\n",
    "import asyncio\n",
    "\n",
    "OPENAI_API_KEY = os.environ.get(\"OPENAI_API_KEY\")\n",
    "OLLAMA_HOST = \"http://localhost:11434\"\n",
    "# MODEL= \"deepseek-r1:latest\"  # Change this to your desired model\n",
    "MODEL= \"llama3.1:8b\"  # Change this to your desired model\n",
    "# MODEL= \"gemma3n:e4b\"  # Change this to your desired model\n",
    "# MODEL= \"gemma3:12b\"  # Change this to your desired model"
   ]
  },
  {
   "cell_type": "code",
   "execution_count": 6,
   "id": "c213cec6",
   "metadata": {},
   "outputs": [
    {
     "name": "stdout",
     "output_type": "stream",
     "text": [
      "('models', [Model(model='gemma3:12b', modified_at=datetime.datetime(2025, 7, 12, 11, 17, 25, 289671, tzinfo=TzInfo(-04:00)), digest='f4031aab637d1ffa37b42570452ae0e4fad0314754d17ded67322e4b95836f8a', size=8149190253, details=ModelDetails(parent_model='', format='gguf', family='gemma3', families=['gemma3'], parameter_size='12.2B', quantization_level='Q4_K_M')), Model(model='gemma3n:e4b', modified_at=datetime.datetime(2025, 7, 12, 11, 12, 9, 610739, tzinfo=TzInfo(-04:00)), digest='15cb39fd9394fd2549f6df9081cfc84dd134ecf2c9c5be911e5629920489ac32', size=7547589116, details=ModelDetails(parent_model='', format='gguf', family='gemma3n', families=['gemma3n'], parameter_size='6.9B', quantization_level='Q4_K_M')), Model(model='deepseek-r1:latest', modified_at=datetime.datetime(2025, 7, 12, 10, 46, 23, 986426, tzinfo=TzInfo(-04:00)), digest='6995872bfe4c521a67b32da386cd21d5c6e819b6e0d62f79f64ec83be99f5763', size=5225376047, details=ModelDetails(parent_model='', format='gguf', family='qwen3', families=['qwen3'], parameter_size='8.2B', quantization_level='Q4_K_M')), Model(model='gemma3n:latest', modified_at=datetime.datetime(2025, 7, 12, 10, 18, 53, 550321, tzinfo=TzInfo(-04:00)), digest='15cb39fd9394fd2549f6df9081cfc84dd134ecf2c9c5be911e5629920489ac32', size=7547589116, details=ModelDetails(parent_model='', format='gguf', family='gemma3n', families=['gemma3n'], parameter_size='6.9B', quantization_level='Q4_K_M')), Model(model='gemma3:4b', modified_at=datetime.datetime(2025, 7, 12, 10, 16, 58, 458194, tzinfo=TzInfo(-04:00)), digest='a2af6cc3eb7fa8be8504abaf9b04e88f17a119ec3f04a3addf55f92841195f5a', size=3338801804, details=ModelDetails(parent_model='', format='gguf', family='gemma3', families=['gemma3'], parameter_size='4.3B', quantization_level='Q4_K_M')), Model(model='llama3.1:8b', modified_at=datetime.datetime(2025, 2, 8, 11, 17, 43, 11404, tzinfo=TzInfo(-05:00)), digest='46e0c10c039e019119339687c3c1757cc81b9da49709a3b3924863ba87ca666e', size=4920753328, details=ModelDetails(parent_model='', format='gguf', family='llama', families=['llama'], parameter_size='8.0B', quantization_level='Q4_K_M')), Model(model='llama3.2:3b', modified_at=datetime.datetime(2025, 2, 3, 9, 32, 11, 979843, tzinfo=TzInfo(-05:00)), digest='a80c4f17acd55265feec403c7aef86be0c25983ab279d83f3bcd3abbcb5b8b72', size=2019393189, details=ModelDetails(parent_model='', format='gguf', family='llama', families=['llama'], parameter_size='3.2B', quantization_level='Q4_K_M'))])\n",
      "Connected successfully!\n"
     ]
    }
   ],
   "source": [
    "\n",
    "#Checking \n",
    "client = Client(host = OLLAMA_HOST)\n",
    "\n",
    "try:\n",
    "    for model in client.list() :\n",
    "        print(model)\n",
    "\n",
    "    print(\"Connected successfully!\")\n",
    "except Exception as e:\n",
    "    print(f\"Error: {e}\")\n",
    "    sys.exit(1)\n",
    "\n"
   ]
  },
  {
   "cell_type": "markdown",
   "id": "9e296576",
   "metadata": {},
   "source": [
    "# Agents"
   ]
  },
  {
   "cell_type": "code",
   "execution_count": null,
   "id": "66d49d7f",
   "metadata": {},
   "outputs": [
    {
     "name": "stdout",
     "output_type": "stream",
     "text": [
      "INFO     [browser_use.agent.service] 💾 File system path: /var/folders/tt/r2rqxymj7j9352l2tmk5zj9c0000gn/T/browser_use_agent_06872818-fd63-7800-8000-5747aaacd4aa\n",
      "INFO     [browser_use.Agent🅰 d4aa on 🆂 d4aa 🅟 80] 🧠 Starting a browser-use agent 0.5.4 with base_model=gpt-4.1 +vision extraction_model=gpt-4.1 +file_system\n"
     ]
    }
   ],
   "source": [
    "browser_session = BrowserSession(\n",
    "    viewport={'width': 964, 'height': 647},\n",
    ")\n",
    "\n",
    "initial_actions = [\n",
    "    {'go_to_url': {'url': 'https://www.google.com', 'new_tab': True}},\n",
    "]\n",
    "\n",
    "agent = Agent(\n",
    "    task=\"Check the weather in Miami Florida\",\n",
    "    llm = ChatOpenAI(model=\"gpt-4.1\", api_key=OPENAI_API_KEY),\n",
    "    initial_actions=initial_actions,\n",
    "    save_conversation_path=\"logs/conversation\",\n",
    ")\n",
    "\n",
    "# agent = Agent(\n",
    "#     task=\"Check the weather in Miami Florida\",\n",
    "#     llm = ChatOpenAI(model=\"gpt-4.1\", api_key=OPENAI_API_KEY),\n",
    "#     initial_actions=initial_actions,\n",
    "# )\n",
    "\n",
    "llm = ChatOllama(\n",
    "    host=OLLAMA_HOST,\n",
    "    model=MODEL)\n",
    "\n",
    "# agent = Agent(\n",
    "#     task=\"Check the weather in Miami Florida\",\n",
    "#     save_conversation_path=\"logs/conversation\",\n",
    "#     llm=llm,\n",
    "#     initial_actions=initial_actions,\n",
    "#     browser_session=browser_session,\n",
    "# )"
   ]
  },
  {
   "cell_type": "markdown",
   "id": "fddb4345",
   "metadata": {},
   "source": [
    "# Run the agent"
   ]
  },
  {
   "cell_type": "code",
   "execution_count": 8,
   "id": "84504d4e",
   "metadata": {},
   "outputs": [
    {
     "name": "stdout",
     "output_type": "stream",
     "text": [
      "INFO     [browser_use.Agent🅰 d4aa on 🆂 d4aa 🅟 80] 🚀 Starting task: Check the weather in Miami Florida\n",
      "INFO     [browser_use.BrowserSession🆂 d4aa:None #76] 🎭 Launching new local browser playwright:chromium keep_alive=False user_data_dir= ~/.config/browseruse/profiles/default\n",
      "INFO     [browser_use.BrowserSession🆂 d4aa:None #76]  ↳ Spawning Chrome subprocess listening on CDP http://127.0.0.1:56516/ with user_data_dir= ~/.config/browseruse/profiles/default\n",
      "INFO     [browser_use.BrowserSession🆂 d4aa:56516 #76] 🌎 Connecting to newly spawned browser via CDP http://127.0.0.1:56516/ -> browser_pid=15710 (local)\n",
      "INFO     [browser_use.controller.service] 🔗  Opened new tab #1 with url https://www.google.com\n",
      "INFO     [browser_use.Agent🅰 d4aa on 🆂 d4aa 🅟 52] ☑️ Executed action 1/1: go_to_url()\n",
      "INFO     [browser_use.BrowserSession🆂 d4aa:56516 #76] ➡️ Page navigation [1]google.com/ took 0.52s\n",
      "INFO     [browser_use.Agent🅰 d4aa on 🆂 d4aa 🅟 52] 📍 Step 2: Evaluating page with 21 interactive elements on: https://www.google.com/\n",
      "INFO     [browser_use.Agent🅰 d4aa on 🆂 d4aa 🅟 52] 💡 Thinking:\n",
      "The user request is to check the weather in Miami, Florida. The best way to proceed is to use Google Search to quickly find the current weather information. I am currently on the Google homepage, and the search bar is clearly visible as element [10]. My next step should be to input the search query 'weather in Miami Florida' into the search bar to retrieve the relevant information.\n",
      "INFO     [browser_use.Agent🅰 d4aa on 🆂 d4aa 🅟 52] ❔ Eval: Initial setup complete, ready for first action.\n",
      "INFO     [browser_use.Agent🅰 d4aa on 🆂 d4aa 🅟 52] 🧠 Memory: Starting point: Google homepage loaded with interactive search bar identified.\n",
      "INFO     [browser_use.Agent🅰 d4aa on 🆂 d4aa 🅟 52] 🎯 Next goal: Input 'weather in Miami Florida' into the search bar (index 10) and proceed to search.\n",
      "\n",
      "INFO     [cost] 🧠 \u001b[96mgpt-4.1\u001b[0m | 📥 \u001b[93m6.1k\u001b[0m | 📤 \u001b[92m149\u001b[0m\n",
      "INFO     [browser_use.controller.service] ⌨️  Input weather in Miami Florida into index 10\n",
      "INFO     [browser_use.Agent🅰 d4aa on 🆂 d4aa 🅟 52] ☑️ Executed action 1/1: input_text()\n",
      "INFO     [browser_use.Agent🅰 d4aa on 🆂 d4aa 🅟 52] 📍 Step 2: Ran 1 actions in 7.04s: ✅ 1\n",
      "INFO     [browser_use.sync.auth] ────────────────────────────────────────\n",
      "INFO     [browser_use.sync.auth] 🌐  View the details of this run in Browser Use Cloud:\n",
      "INFO     [browser_use.sync.auth]     👉  https://cloud.browser-use.com/hotlink?user_code=XBDHUBWAPBAM4CFU\n",
      "INFO     [browser_use.sync.auth] ────────────────────────────────────────\n",
      "\n",
      "INFO     [browser_use.BrowserSession🆂 d4aa:56516 #76] ➡️ Page navigation [1]google.com/ took 0.53s\n",
      "INFO     [browser_use.Agent🅰 d4aa on 🆂 d4aa 🅟 52] 📍 Step 3: Evaluating page with 33 interactive elements on: https://www.google.com/\n",
      "INFO     [browser_use.Agent🅰 d4aa on 🆂 d4aa 🅟 52] 💡 Thinking:\n",
      "The previous step successfully entered the query 'weather in Miami Florida' into the search field. Now, the next step should trigger the search operation. The best course is to click the 'Google Search' button (index 23) to see the weather results for Miami, Florida. This will progress us toward fulfilling the user's request to check the weather in that location.\n",
      "INFO     [browser_use.Agent🅰 d4aa on 🆂 d4aa 🅟 52] 👍 Eval: Successfully entered the search query into the field. Verdict: Success.\n",
      "INFO     [browser_use.Agent🅰 d4aa on 🆂 d4aa 🅟 52] 🧠 Memory: Query 'weather in Miami Florida' has been entered on Google. Ready to execute the search by clicking the search button.\n",
      "INFO     [browser_use.Agent🅰 d4aa on 🆂 d4aa 🅟 52] 🎯 Next goal: Click on the 'Google Search' button (index 23) to initiate the weather search for Miami, Florida.\n",
      "\n",
      "INFO     [cost] 🧠 \u001b[96mgpt-4.1\u001b[0m | 📥 \u001b[93m6.1k\u001b[0m | 📤 \u001b[92m158\u001b[0m\n",
      "INFO     [browser_use.controller.service] 🖱️ Clicked button with index 23: \n",
      "INFO     [browser_use.Agent🅰 d4aa on 🆂 d4aa 🅟 52] ☑️ Executed action 1/1: click_element_by_index()\n",
      "INFO     [browser_use.Agent🅰 d4aa on 🆂 d4aa 🅟 52] 📍 Step 3: Ran 1 actions in 7.54s: ✅ 1\n",
      "INFO     [browser_use.BrowserSession🆂 d4aa:56516 #76] ➡️ Page navigation [1]google.com/search?q=weather+in+Miami+Flo… took 0.62s\n",
      "INFO     [browser_use.Agent🅰 d4aa on 🆂 d4aa 🅟 52] 📍 Step 4: Evaluating page with 143 interactive elements on: https://www.google.com/search?q=weather+in+Miami+F...\n",
      "INFO     [browser_use.Agent🅰 d4aa on 🆂 d4aa 🅟 52] 💡 Thinking:\n",
      "From the visual and textual evidence in the browser state and screenshot, the Google weather summary is clearly visible. The main result box (element 35) shows Miami's weather: 85°F, 0% precipitation, 78% humidity, wind 1 mph, mostly cloudy (Saturday 11:00 AM). There is also a temperature trend graph and multi-day forecast visible just below. The user request is to \"check the weather in Miami Florida\" which is already clearly answered here. No further navigation or extraction is necessary; I will summarize this information for the user and complete the task.\n",
      "INFO     [browser_use.Agent🅰 d4aa on 🆂 d4aa 🅟 52] 👍 Eval: Google has successfully displayed the weather for Miami, Florida. Key data is visible.\n",
      "INFO     [browser_use.Agent🅰 d4aa on 🆂 d4aa 🅟 52] 🧠 Memory: Retrieved Miami weather data from Google. Main figure: 85°F, mostly cloudy, humidity 78%, very low wind and no precipitation. Ready to present this summary to the user and finish the request.\n",
      "INFO     [browser_use.Agent🅰 d4aa on 🆂 d4aa 🅟 52] 🎯 Next goal: Summarize and report the visible weather data for Miami, Florida to the user, then finish the task.\n",
      "\n",
      "INFO     [cost] 🧠 \u001b[96mgpt-4.1\u001b[0m | 🆕 \u001b[93m5.3k\u001b[0m + 💾 \u001b[94m4.6k\u001b[0m | 📤 \u001b[92m282\u001b[0m\n",
      "INFO     [browser_use.Agent🅰 d4aa on 🆂 d4aa 🅟 52] ☑️ Executed action 1/1: done()\n",
      "INFO     [browser_use.Agent🅰 d4aa on 🆂 d4aa 🅟 52] 📄 Result: Current weather in Miami, Florida (as of Saturday 11:00 AM): 85°F, mostly cloudy, 0% precipitation, 78% humidity, and 1 mph wind. Let me know if you need the extended forecast or additional details!\n",
      "INFO     [browser_use.Agent🅰 d4aa on 🆂 d4aa 🅟 52] 📍 Step 4: Ran 1 actions in 9.67s: ✅ 1\n",
      "INFO     [browser_use.Agent🅰 d4aa on 🆂 d4aa 🅟 52] ✅ Task completed successfully\n",
      "INFO     [cost] 📊 \u001b[1mPer-Model Usage Breakdown\u001b[0m:\n",
      "INFO     [cost]   🤖 \u001b[96mgpt-4.1\u001b[0m: \u001b[94m22.8k tokens\u001b[0m | ⬅️ \u001b[93m22.2k\u001b[0m | ➡️ \u001b[92m589\u001b[0m | 📞 3 calls | 📈 7.6k/call\n",
      "INFO     [browser_use.agent.service] Cloud authentication started - continuing in background\n",
      "INFO     [browser_use.BrowserSession🆂 d4aa:56516 #76] 🛑 Closing cdp_url=http://127.0.0.1:56516/ browser context  <Browser type=<BrowserType name=chromium executable_path=/Users/nguyen/Library/Caches/ms-playwright/chromium-1179/chrome-mac/Chromium.app/Contents/MacOS/Chromium> version=138.0.7204.23>\n",
      "INFO     [browser_use.BrowserSession🆂 d4aa:56516 #76]  ↳ Killing browser_pid=15710 ~/Library/Caches/ms-playwright/chromium-1179/chrome-mac/Chromium.app/Contents/MacOS/Chromium (terminate() called)\n",
      "AgentHistoryList(all_results=[ActionResult(is_done=False, success=None, error=None, attachments=None, long_term_memory=\"Input 'weather in Miami Florida' into element 10.\", extracted_content='⌨️  Input weather in Miami Florida into index 10', include_extracted_content_only_once=False, include_in_memory=True), ActionResult(is_done=False, success=None, error=None, attachments=None, long_term_memory='Clicked button with index 23: ', extracted_content='Clicked button with index 23: ', include_extracted_content_only_once=False, include_in_memory=True), ActionResult(is_done=True, success=True, error=None, attachments=[], long_term_memory='Task completed: True - Current weather in Miami, Florida (as of Saturday 11:00 AM): 85°F, mostly cloudy, 0% precipitation,  - 98 more characters', extracted_content='Current weather in Miami, Florida (as of Saturday 11:00 AM): 85°F, mostly cloudy, 0% precipitation, 78% humidity, and 1 mph wind. Let me know if you need the extended forecast or additional details!', include_extracted_content_only_once=False, include_in_memory=False)], all_model_outputs=[{'input_text': {'index': 10, 'text': 'weather in Miami Florida'}, 'interacted_element': DOMHistoryElement(tag_name='textarea', xpath='html/body/div[1]/div[3]/form/div[1]/div[1]/div[1]/div[1]/div[2]/textarea', highlight_index=10, entire_parent_branch_path=['div', 'div', 'form', 'div', 'div', 'div', 'div', 'div', 'textarea'], attributes={'class': 'gLFyf', 'aria-controls': 'Alh6id', 'aria-owns': 'Alh6id', 'autofocus': '', 'title': 'Search', 'value': '', 'aria-label': 'Search', 'placeholder': '', 'aria-autocomplete': 'both', 'aria-expanded': 'false', 'aria-haspopup': 'false', 'autocapitalize': 'off', 'autocomplete': 'off', 'autocorrect': 'off', 'id': 'APjFqb', 'maxlength': '2048', 'name': 'q', 'role': 'combobox', 'rows': '1', 'spellcheck': 'false', 'data-ved': '0ahUKEwjcpKPN07eOAxWykWoFHT_CPAkQ39UDCAU'}, shadow_root=False, css_selector='html > body > div:nth-of-type(1) > div:nth-of-type(3) > form > div:nth-of-type(1) > div:nth-of-type(1) > div:nth-of-type(1) > div:nth-of-type(1) > div:nth-of-type(2) > textarea.gLFyf[title=\"Search\"][aria-label=\"Search\"][placeholder][autocomplete=\"off\"][id=\"APjFqb\"][name=\"q\"][role=\"combobox\"]', page_coordinates=None, viewport_coordinates=None, viewport_info=None)}, {'click_element_by_index': {'index': 23}, 'interacted_element': DOMHistoryElement(tag_name='input', xpath='html/body/div[1]/div[3]/form/div[1]/div[1]/div[2]/div[4]/div[6]/center/input[1]', highlight_index=23, entire_parent_branch_path=['div', 'div', 'form', 'div', 'div', 'div', 'div', 'div', 'center', 'input'], attributes={'class': 'gNO89b', 'value': 'Google Search', 'aria-label': 'Google Search', 'name': 'btnK', 'role': 'button', 'tabindex': '0', 'type': 'submit', 'data-ved': '0ahUKEwjcpKPN07eOAxWykWoFHT_CPAkQ4dUDCA8'}, shadow_root=False, css_selector='html > body > div:nth-of-type(1) > div:nth-of-type(3) > form > div:nth-of-type(1) > div:nth-of-type(1) > div:nth-of-type(2) > div:nth-of-type(4) > div:nth-of-type(6) > center > input:nth-of-type(1).gNO89b[aria-label=\"Google Search\"][name=\"btnK\"][role=\"button\"][type=\"submit\"]', page_coordinates=None, viewport_coordinates=None, viewport_info=None)}, {'done': {'text': 'Current weather in Miami, Florida (as of Saturday 11:00 AM): 85°F, mostly cloudy, 0% precipitation, 78% humidity, and 1 mph wind. Let me know if you need the extended forecast or additional details!', 'success': True}, 'interacted_element': None}])\n"
     ]
    }
   ],
   "source": [
    "# Run the agent\n",
    "async def main():\n",
    "\n",
    "    try:\n",
    "        result = await agent.run()\n",
    "    except Exception as e:\n",
    "        print(f\"An error occurred: {e}\")\n",
    "        result = None\n",
    "\n",
    "    print(result)\n",
    "\n",
    "# asyncio.run(main())\n",
    "await main()"
   ]
  },
  {
   "cell_type": "code",
   "execution_count": null,
   "id": "ee4f4021",
   "metadata": {},
   "outputs": [],
   "source": []
  },
  {
   "cell_type": "code",
   "execution_count": null,
   "id": "317d078a",
   "metadata": {},
   "outputs": [],
   "source": []
  },
  {
   "cell_type": "code",
   "execution_count": null,
   "id": "373a33c0",
   "metadata": {},
   "outputs": [],
   "source": []
  },
  {
   "cell_type": "code",
   "execution_count": null,
   "id": "643c38b6",
   "metadata": {},
   "outputs": [],
   "source": []
  },
  {
   "cell_type": "code",
   "execution_count": null,
   "id": "0b4bc51b",
   "metadata": {},
   "outputs": [],
   "source": []
  }
 ],
 "metadata": {
  "kernelspec": {
   "display_name": ".venv",
   "language": "python",
   "name": "python3"
  },
  "language_info": {
   "codemirror_mode": {
    "name": "ipython",
    "version": 3
   },
   "file_extension": ".py",
   "mimetype": "text/x-python",
   "name": "python",
   "nbconvert_exporter": "python",
   "pygments_lexer": "ipython3",
   "version": "3.13.5"
  }
 },
 "nbformat": 4,
 "nbformat_minor": 5
}
