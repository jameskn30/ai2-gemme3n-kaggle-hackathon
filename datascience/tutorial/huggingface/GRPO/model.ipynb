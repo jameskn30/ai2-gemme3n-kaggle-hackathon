{
 "cells": [
  {
   "cell_type": "code",
   "execution_count": null,
   "id": "5873c33b",
   "metadata": {},
   "outputs": [],
   "source": [
    "import torch\n",
    "from unsloth import FastLanguageModel\n",
    "import os\n",
    "from datasets import load_dataset, Dataset, IterableDataset\n",
    "from pprint import pprint\n",
    "import re\n",
    "import wandb\n",
    "from vllm import SamplingParams\n",
    "from datetime import datetime\n",
    "\n",
    "# Check GPU\n",
    "if torch.cuda.is_available():\n",
    "    print(f\"GPU detected: {torch.cuda.get_device_name(0)}\")\n",
    "else:\n",
    "    print(\"No GPU detected.\")\n",
    "\n",
    "# Environment variables for torch\n",
    "os.environ[\"TORCH_LOGS\"] = \"recompiles\"\n",
    "os.environ['TORCHDYNAMO_CACHE_SIZE_LIMIT'] = '999999999'\n",
    "import torch._dynamo \n",
    "torch._dynamo.config.cache_size_limit = 64"
   ]
  },
  {
   "cell_type": "code",
   "execution_count": null,
   "id": "e49ee4e8",
   "metadata": {},
   "outputs": [],
   "source": [
    "\n",
    "SYSTEM_PROMPT = \"\"\"\n",
    "Respond in the following format:\n",
    "<reasoning>\n",
    "...\n",
    "</reasoning>\n",
    "<answer>\n",
    "...\n",
    "</answer>\n",
    "\"\"\"\n",
    "\n",
    "XML_COT_FORMAT = \"\"\"\n",
    "<reasoning>\n",
    "{reasoning}\n",
    "</reasoning>\n",
    "<answer>\n",
    "{answer}\n",
    "</answer>\n",
    "\"\"\""
   ]
  },
  {
   "cell_type": "code",
   "execution_count": null,
   "id": "47255d03",
   "metadata": {},
   "outputs": [],
   "source": [
    "MODEL_ID = \"google/gemma-3-1b-it\"\n",
    "MAX_SEQ_LENGTH = 1024\n",
    "LORA_RANK = 32\n",
    "GPU_UTIL=0.6\n",
    "\n",
    "model, tokenizer = FastLanguageModel.from_pretrained(\n",
    "    model_name=MODEL_ID,\n",
    "    max_seq_length = MAX_SEQ_LENGTH,\n",
    "    load_in_4bit=True,\n",
    "    fast_inference=True, #enabled vllm\n",
    "    max_lora_rank=LORA_RANK,\n",
    "    gpu_memory_utilization=GPU_UTIL\n",
    ")\n",
    "\n",
    "peft_model = FastLanguageModel.get_peft_model(\n",
    "    model,\n",
    "    finetune_vision_layers = False,\n",
    "    finetune_language_layers = True,\n",
    "    finetune_attention_modules = True,\n",
    "    finetune_mlp_modules = True,\n",
    "    r=LORA_RANK,\n",
    "    lora_alpha=LORA_RANK,\n",
    "    use_gradient_checkpointing='unsloth', #enable long FT\n",
    "    random_state = 42\n",
    ")\n",
    "\n",
    "print(type(peft_model))\n"
   ]
  },
  {
   "cell_type": "code",
   "execution_count": null,
   "id": "abd1eedf",
   "metadata": {},
   "outputs": [],
   "source": [
    "VERSION = datetime.now().strftime(\"%Y%m%d_%H%M%S\")\n",
    "print(\"current_verion = \", VERSION)\n",
    "# model.save_lora('grpo_lora_model')\n",
    "# model.save_pretrained_merged(f\"outputs/grpo_saved_{VERSION}\", tokenizer, save_method = \"merged_16bit\")\n",
    "\n",
    "text = tokenizer.apply_chat_template(\n",
    "    [\n",
    "        {'role': 'system', \"content\": SYSTEM_PROMPT},\n",
    "        {'role': 'user', \"content\": 'Calculate pi'},\n",
    "    ],\n",
    "    add_generation_prompt=True,\n",
    "    return_tensors = \"pt\"\n",
    ").to('cuda')\n",
    "\n",
    "print(text)\n",
    "\n",
    "from transformers import TextStreamer\n",
    "\n",
    "streamer = TextStreamer(tokenizer, skip_prompt=True)\n",
    "\n",
    "res = peft_model.generate(\n",
    "    text,\n",
    "    streamer = streamer,\n",
    "    max_new_tokens=128,\n",
    "    pad_token_id = tokenizer.eos_token_id\n",
    ")\n"
   ]
  },
  {
   "cell_type": "code",
   "execution_count": null,
   "id": "89e2afaa",
   "metadata": {},
   "outputs": [],
   "source": [
    "# Detokenize the tensor and print the generated text\n",
    "generated_text = tokenizer.decode(res[0], skip_special_tokens=True)\n",
    "print(generated_text)"
   ]
  },
  {
   "cell_type": "markdown",
   "id": "d0257592",
   "metadata": {},
   "source": [
    "# Evaluation after GRPO"
   ]
  },
  {
   "cell_type": "code",
   "execution_count": null,
   "id": "371a63a4",
   "metadata": {},
   "outputs": [],
   "source": [
    "\n",
    "text = tokenizer.apply_chat_template(\n",
    "    [\n",
    "        {\"role\": \"system\", \"content\": SYSTEM_PROMPT},\n",
    "        {\"role\": \"user\", \"content\": \"Calculate pi.\"},\n",
    "    ],\n",
    "    tokenize=True,\n",
    "    add_generation_prompt=True,\n",
    "    return_tensors=\"pt\"\n",
    ").to('cuda')\n",
    "\n",
    "print(text)\n",
    "\n",
    "sampling_params = SamplingParams(\n",
    "    temperature=0.8,\n",
    "    top_p = 0.95,\n",
    "    max_tokens = 1024\n",
    ")\n",
    "\n",
    "output = model.generate(\n",
    "    text, \n",
    ")\n"
   ]
  },
  {
   "cell_type": "code",
   "execution_count": null,
   "id": "7d396f5d",
   "metadata": {},
   "outputs": [],
   "source": []
  }
 ],
 "metadata": {
  "kernelspec": {
   "display_name": ".venv",
   "language": "python",
   "name": "python3"
  },
  "language_info": {
   "codemirror_mode": {
    "name": "ipython",
    "version": 3
   },
   "file_extension": ".py",
   "mimetype": "text/x-python",
   "name": "python",
   "nbconvert_exporter": "python",
   "pygments_lexer": "ipython3",
   "version": "3.11.7"
  }
 },
 "nbformat": 4,
 "nbformat_minor": 5
}
