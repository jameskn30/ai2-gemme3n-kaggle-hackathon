{
 "cells": [
  {
   "cell_type": "code",
   "execution_count": 1,
   "id": "5873c33b",
   "metadata": {},
   "outputs": [
    {
     "name": "stdout",
     "output_type": "stream",
     "text": [
      "🦥 Unsloth: Will patch your computer to enable 2x faster free finetuning.\n"
     ]
    },
    {
     "name": "stderr",
     "output_type": "stream",
     "text": [
      "/home/nguyen/Desktop/ai2-gemme3n-kaggle-hackathon/.venv/lib/python3.11/site-packages/tqdm/auto.py:21: TqdmWarning: IProgress not found. Please update jupyter and ipywidgets. See https://ipywidgets.readthedocs.io/en/stable/user_install.html\n",
      "  from .autonotebook import tqdm as notebook_tqdm\n"
     ]
    },
    {
     "name": "stdout",
     "output_type": "stream",
     "text": [
      "🦥 Unsloth Zoo will now patch everything to make training faster!\n",
      "INFO 07-20 15:49:08 [__init__.py:244] Automatically detected platform cuda.\n",
      "GPU detected: NVIDIA GeForce RTX 3060\n"
     ]
    }
   ],
   "source": [
    "import torch\n",
    "from unsloth import FastLanguageModel\n",
    "import os\n",
    "from datasets import load_dataset, Dataset, IterableDataset\n",
    "from pprint import pprint\n",
    "import re\n",
    "import wandb\n",
    "from vllm import SamplingParams\n",
    "from datetime import datetime\n",
    "\n",
    "# Check GPU\n",
    "if torch.cuda.is_available():\n",
    "    print(f\"GPU detected: {torch.cuda.get_device_name(0)}\")\n",
    "else:\n",
    "    print(\"No GPU detected.\")\n",
    "\n",
    "# Environment variables for torch\n",
    "os.environ[\"TORCH_LOGS\"] = \"recompiles\"\n",
    "os.environ['TORCHDYNAMO_CACHE_SIZE_LIMIT'] = '999999999'\n",
    "import torch._dynamo \n",
    "torch._dynamo.config.cache_size_limit = 64"
   ]
  },
  {
   "cell_type": "code",
   "execution_count": 2,
   "id": "e49ee4e8",
   "metadata": {},
   "outputs": [
    {
     "name": "stdout",
     "output_type": "stream",
     "text": [
      "You are given a problem, think about the problem and provide your workout. \n",
      "    Place it between <start_working_out> and <end_working_out>. Then provide your solution\n",
      "    between <solution></solution>\n"
     ]
    }
   ],
   "source": [
    "\n",
    "reasoning_start = \"<start_working_out>\"\n",
    "reasoning_end = \"<end_working_out>\"\n",
    "solution_start = \"<solution>\"\n",
    "solution_end = \"</solution>\"\n",
    "\n",
    "system_prompt = \\\n",
    "    f\"\"\"You are given a problem, think about the problem and provide your workout. \n",
    "    Place it between {reasoning_start} and {reasoning_end}. Then provide your solution\n",
    "    between {solution_start}{solution_end}\"\"\"\n",
    "\n",
    "print(system_prompt)\n"
   ]
  },
  {
   "cell_type": "markdown",
   "id": "7ce3cc28",
   "metadata": {},
   "source": [
    "# Prepare dataset"
   ]
  },
  {
   "cell_type": "code",
   "execution_count": null,
   "id": "d866da28",
   "metadata": {},
   "outputs": [
    {
     "name": "stdout",
     "output_type": "stream",
     "text": [
      "<re.Match object; span=(0, 71), match='<start_working_out>Let me think!<end_working_out>>\n"
     ]
    }
   ],
   "source": [
    "# This regular expression is used to match a specific format in a string, typically for extracting\n",
    "# the solution part from a text that contains both reasoning and solution sections.\n",
    "# - It expects the string to start with optional whitespace.\n",
    "# - Then it looks for the reasoning section, which starts with the value of `reasoning_start`,\n",
    "#   contains any characters (non-greedy), and ends with `reasoning_end`.\n",
    "# - After that, it expects the solution section, which starts with `solution_start`,\n",
    "#   captures everything up to `solution_end` (the solution itself is captured in a group).\n",
    "# - Finally, it expects optional whitespace at the end of the string.\n",
    "# - The flags `re.MULTILINE` and `re.DOTALL` allow the regex to match across multiple lines\n",
    "#   and let the dot (`.`) match newline characters as well.\n",
    "\n",
    "match_format = re.compile(\n",
    "    rf\"^[\\s]{{0,}}\"\\\n",
    "    rf\"{reasoning_start}.+?{reasoning_end}.*?\"\\\n",
    "    rf\"{solution_start}(.+?){solution_end}\"\\\n",
    "    rf\"[\\s]{{0,}}$\",\n",
    "    flags = re.MULTILINE | re.DOTALL\n",
    ")\n",
    "\n",
    "#test\n",
    "res = match_format.search(\n",
    "    \"<start_working_out>Let me think!<end_working_out>\"\\\n",
    "    \"<solution>2</solution>\",\n",
    ")\n",
    "\n",
    "print(res)"
   ]
  },
  {
   "cell_type": "markdown",
   "id": "496481b3",
   "metadata": {},
   "source": [
    "# Rewards function"
   ]
  },
  {
   "cell_type": "code",
   "execution_count": null,
   "id": "540b8d30",
   "metadata": {},
   "outputs": [],
   "source": [
    "def match_format_exactly(completions, **kwargs):\n",
    "    reward = kwargs.get(\"reward\", 3.0)\n",
    "    scores = []\n",
    "    for completion in completions:\n",
    "        score = 0\n",
    "        "
   ]
  },
  {
   "cell_type": "code",
   "execution_count": null,
   "id": "9a18c3f2",
   "metadata": {},
   "outputs": [],
   "source": []
  },
  {
   "cell_type": "code",
   "execution_count": null,
   "id": "986d85b6",
   "metadata": {},
   "outputs": [],
   "source": []
  },
  {
   "cell_type": "code",
   "execution_count": null,
   "id": "9d5cf3a1",
   "metadata": {},
   "outputs": [],
   "source": []
  },
  {
   "cell_type": "code",
   "execution_count": 5,
   "id": "47255d03",
   "metadata": {},
   "outputs": [
    {
     "name": "stdout",
     "output_type": "stream",
     "text": [
      "==((====))==  Unsloth 2025.7.5: Fast Gemma3 patching. Transformers: 4.53.2. vLLM: 0.9.2.\n",
      "   \\\\   /|    NVIDIA GeForce RTX 3060. Num GPUs = 1. Max memory: 11.622 GB. Platform: Linux.\n",
      "O^O/ \\_/ \\    Torch: 2.7.0+cu126. CUDA: 8.6. CUDA Toolkit: 12.6. Triton: 3.3.0\n",
      "\\        /    Bfloat16 = TRUE. FA [Xformers = None. FA2 = True]\n",
      " \"-____-\"     Free license: http://github.com/unslothai/unsloth\n",
      "Unsloth: Fast downloading is enabled - ignore downloading bars which are red colored!\n",
      "Unsloth: Making `model.base_model.model.model` require gradients\n",
      "<class 'peft.peft_model.PeftModelForCausalLM'>\n"
     ]
    }
   ],
   "source": [
    "MODEL_ID = \"unsloth/gemma-3-1b-it\"\n",
    "MAX_SEQ_LENGTH = 1024\n",
    "LORA_RANK = 32\n",
    "GPU_UTIL=0.6\n",
    "\n",
    "model, tokenizer = FastLanguageModel.from_pretrained(\n",
    "    model_name=MODEL_ID,\n",
    "    max_seq_length = MAX_SEQ_LENGTH,\n",
    "    load_in_4bit=True,\n",
    "    fast_inference=True, #enabled vllm\n",
    "    max_lora_rank=LORA_RANK,\n",
    "    gpu_memory_utilization=GPU_UTIL\n",
    ")\n",
    "\n",
    "peft_model = FastLanguageModel.get_peft_model(\n",
    "    model,\n",
    "    finetune_vision_layers = False,\n",
    "    finetune_language_layers = True,\n",
    "    finetune_attention_modules = True,\n",
    "    finetune_mlp_modules = True,\n",
    "    r=LORA_RANK,\n",
    "    lora_alpha=LORA_RANK,\n",
    "    use_gradient_checkpointing='unsloth', #enable long FT\n",
    "    bias='none',\n",
    "    random_state = 42\n",
    ")\n",
    "\n",
    "print(type(peft_model))\n"
   ]
  },
  {
   "cell_type": "code",
   "execution_count": null,
   "id": "abd1eedf",
   "metadata": {},
   "outputs": [
    {
     "name": "stdout",
     "output_type": "stream",
     "text": [
      "current_verion =  20250720_101140\n",
      "tensor([[     2,    105,   2364,    108, 118904,    528,    506,   2269,   6518,\n",
      "         236787,    107, 236820,  27388,    522, 236813,    107,   1390,    107,\n",
      "            954,  27388,    522, 236813,    107, 236820,  14433, 236813,    107,\n",
      "           1390,    107,    954,  14433, 236813,    109,  50702,   4604,    106,\n",
      "            107,    105,   4368,    107]], device='cuda:0')\n",
      "<reasoning>\n",
      "Pi (π) is a mathematical constant that represents the ratio of a circle’s circumference to its diameter. It’s approximately 3.14159.  It’s an irrational number, meaning its decimal representation goes on forever without repeating.  The value of Pi is defined as the ratio of a circle’s circumference to its diameter.\n",
      "\n",
      "</reasoning>\n",
      "<answer>\n",
      "3.14159...\n",
      "</answer><end_of_turn>\n"
     ]
    }
   ],
   "source": [
    "VERSION = datetime.now().strftime(\"%Y%m%d_%H%M%S\")\n",
    "print(\"current_verion = \", VERSION)\n",
    "# model.save_lora('grpo_lora_model')\n",
    "# model.save_pretrained_merged(f\"outputs/grpo_saved_{VERSION}\", tokenizer, save_method = \"merged_16bit\")\n",
    "\n",
    "text = tokenizer.apply_chat_template(\n",
    "    [\n",
    "        {'role': 'system', \"content\": SYSTEM_PROMPT},\n",
    "        {'role': 'user', \"content\": 'Calculate pi'},\n",
    "    ],\n",
    "    add_generation_prompt=True,\n",
    "    return_tensors = \"pt\"\n",
    ").to('cuda')\n",
    "\n",
    "print(text)\n",
    "\n",
    "from transformers import TextStreamer\n",
    "\n",
    "streamer = TextStreamer(tokenizer, skip_prompt=True)\n",
    "\n",
    "res = peft_model.generate(\n",
    "    text,\n",
    "    streamer = streamer,\n",
    "    max_new_tokens=128,\n",
    "    pad_token_id = tokenizer.eos_token_id\n",
    ")\n"
   ]
  },
  {
   "cell_type": "code",
   "execution_count": 19,
   "id": "89e2afaa",
   "metadata": {},
   "outputs": [
    {
     "name": "stdout",
     "output_type": "stream",
     "text": [
      "user\n",
      "\n",
      "Respond in the following format:\n",
      "<reasoning>\n",
      "...\n",
      "</reasoning>\n",
      "<answer>\n",
      "...\n",
      "</answer>\n",
      "\n",
      "\n",
      "Calculate pi\n",
      "model\n",
      "<reasoning>\n",
      "Pi (π) is a mathematical constant that represents the ratio of a circle’s circumference to its diameter. It’s approximately 3.14159.  It’s an irrational number, meaning its decimal representation goes on forever without repeating.  The value of Pi is defined as the ratio of a circle’s circumference to its diameter.\n",
      "\n",
      "</reasoning>\n",
      "<answer>\n",
      "3.14159...\n",
      "</answer>\n"
     ]
    }
   ],
   "source": [
    "# Detokenize the tensor and print the generated text\n",
    "generated_text = tokenizer.decode(res[0], skip_special_tokens=True)\n",
    "print(generated_text)"
   ]
  },
  {
   "cell_type": "markdown",
   "id": "d0257592",
   "metadata": {},
   "source": [
    "# Evaluation after GRPO"
   ]
  },
  {
   "cell_type": "code",
   "execution_count": null,
   "id": "371a63a4",
   "metadata": {},
   "outputs": [
    {
     "name": "stdout",
     "output_type": "stream",
     "text": [
      "tensor([[     2,    105,   2364,    108, 118904,    528,    506,   2269,   6518,\n",
      "         236787,    107, 236820,  27388,    522, 236813,    107,   1390,    107,\n",
      "            954,  27388,    522, 236813,    107, 236820,  14433, 236813,    107,\n",
      "           1390,    107,    954,  14433, 236813,    109,  50702,   4604, 236761,\n",
      "            106,    107,    105,   4368,    107]], device='cuda:0')\n"
     ]
    },
    {
     "ename": "ValueError",
     "evalue": "The following `model_kwargs` are not used by the model: ['sampling_params'] (note: typos in the generate arguments will also show up in this list)",
     "output_type": "error",
     "traceback": [
      "\u001b[31m---------------------------------------------------------------------------\u001b[39m",
      "\u001b[31mValueError\u001b[39m                                Traceback (most recent call last)",
      "\u001b[36mFile \u001b[39m\u001b[32m~/Desktop/ai2-gemme3n-kaggle-hackathon/.venv/lib/python3.11/site-packages/unsloth/models/vision.py:227\u001b[39m, in \u001b[36munsloth_base_fast_generate\u001b[39m\u001b[34m(self, *args, **kwargs)\u001b[39m\n\u001b[32m    226\u001b[39m     \u001b[38;5;28;01mwith\u001b[39;00m torch.inference_mode(), autocaster:\n\u001b[32m--> \u001b[39m\u001b[32m227\u001b[39m         output = \u001b[38;5;28;43mself\u001b[39;49m\u001b[43m.\u001b[49m\u001b[43m_old_generate\u001b[49m\u001b[43m(\u001b[49m\u001b[43m*\u001b[49m\u001b[43margs\u001b[49m\u001b[43m,\u001b[49m\u001b[43m \u001b[49m\u001b[43m*\u001b[49m\u001b[43m*\u001b[49m\u001b[43mkwargs\u001b[49m\u001b[43m)\u001b[49m\n\u001b[32m    228\u001b[39m \u001b[38;5;28;01mexcept\u001b[39;00m:\n",
      "\u001b[36mFile \u001b[39m\u001b[32m~/Desktop/ai2-gemme3n-kaggle-hackathon/.venv/lib/python3.11/site-packages/torch/utils/_contextlib.py:116\u001b[39m, in \u001b[36mcontext_decorator.<locals>.decorate_context\u001b[39m\u001b[34m(*args, **kwargs)\u001b[39m\n\u001b[32m    115\u001b[39m \u001b[38;5;28;01mwith\u001b[39;00m ctx_factory():\n\u001b[32m--> \u001b[39m\u001b[32m116\u001b[39m     \u001b[38;5;28;01mreturn\u001b[39;00m \u001b[43mfunc\u001b[49m\u001b[43m(\u001b[49m\u001b[43m*\u001b[49m\u001b[43margs\u001b[49m\u001b[43m,\u001b[49m\u001b[43m \u001b[49m\u001b[43m*\u001b[49m\u001b[43m*\u001b[49m\u001b[43mkwargs\u001b[49m\u001b[43m)\u001b[49m\n",
      "\u001b[36mFile \u001b[39m\u001b[32m~/Desktop/ai2-gemme3n-kaggle-hackathon/.venv/lib/python3.11/site-packages/transformers/generation/utils.py:2375\u001b[39m, in \u001b[36mGenerationMixin.generate\u001b[39m\u001b[34m(self, inputs, generation_config, logits_processor, stopping_criteria, prefix_allowed_tokens_fn, synced_gpus, assistant_model, streamer, negative_prompt_ids, negative_prompt_attention_mask, use_model_defaults, custom_generate, **kwargs)\u001b[39m\n\u001b[32m   2372\u001b[39m generation_config, model_kwargs = \u001b[38;5;28mself\u001b[39m._prepare_generation_config(\n\u001b[32m   2373\u001b[39m     generation_config, use_model_defaults, **kwargs\n\u001b[32m   2374\u001b[39m )\n\u001b[32m-> \u001b[39m\u001b[32m2375\u001b[39m \u001b[38;5;28;43mself\u001b[39;49m\u001b[43m.\u001b[49m\u001b[43m_validate_model_kwargs\u001b[49m\u001b[43m(\u001b[49m\u001b[43mmodel_kwargs\u001b[49m\u001b[43m.\u001b[49m\u001b[43mcopy\u001b[49m\u001b[43m(\u001b[49m\u001b[43m)\u001b[49m\u001b[43m)\u001b[49m\n\u001b[32m   2376\u001b[39m \u001b[38;5;28mself\u001b[39m._validate_assistant(assistant_model, tokenizer, assistant_tokenizer)\n",
      "\u001b[36mFile \u001b[39m\u001b[32m~/Desktop/ai2-gemme3n-kaggle-hackathon/.venv/lib/python3.11/site-packages/transformers/generation/utils.py:1608\u001b[39m, in \u001b[36mGenerationMixin._validate_model_kwargs\u001b[39m\u001b[34m(self, model_kwargs)\u001b[39m\n\u001b[32m   1607\u001b[39m \u001b[38;5;28;01mif\u001b[39;00m unused_model_args:\n\u001b[32m-> \u001b[39m\u001b[32m1608\u001b[39m     \u001b[38;5;28;01mraise\u001b[39;00m \u001b[38;5;167;01mValueError\u001b[39;00m(\n\u001b[32m   1609\u001b[39m         \u001b[33mf\u001b[39m\u001b[33m\"\u001b[39m\u001b[33mThe following `model_kwargs` are not used by the model: \u001b[39m\u001b[38;5;132;01m{\u001b[39;00munused_model_args\u001b[38;5;132;01m}\u001b[39;00m\u001b[33m (note: typos in the\u001b[39m\u001b[33m\"\u001b[39m\n\u001b[32m   1610\u001b[39m         \u001b[33m\"\u001b[39m\u001b[33m generate arguments will also show up in this list)\u001b[39m\u001b[33m\"\u001b[39m\n\u001b[32m   1611\u001b[39m     )\n",
      "\u001b[31mValueError\u001b[39m: The following `model_kwargs` are not used by the model: ['sampling_params'] (note: typos in the generate arguments will also show up in this list)",
      "\nDuring handling of the above exception, another exception occurred:\n",
      "\u001b[31mValueError\u001b[39m                                Traceback (most recent call last)",
      "\u001b[36mCell\u001b[39m\u001b[36m \u001b[39m\u001b[32mIn[28]\u001b[39m\u001b[32m, line 19\u001b[39m\n\u001b[32m     11\u001b[39m \u001b[38;5;28mprint\u001b[39m(text)\n\u001b[32m     13\u001b[39m sampling_params = SamplingParams(\n\u001b[32m     14\u001b[39m     temperature=\u001b[32m0.8\u001b[39m,\n\u001b[32m     15\u001b[39m     top_p = \u001b[32m0.95\u001b[39m,\n\u001b[32m     16\u001b[39m     max_tokens = \u001b[32m1024\u001b[39m\n\u001b[32m     17\u001b[39m )\n\u001b[32m---> \u001b[39m\u001b[32m19\u001b[39m output = \u001b[43mmodel\u001b[49m\u001b[43m.\u001b[49m\u001b[43mgenerate\u001b[49m\u001b[43m(\u001b[49m\n\u001b[32m     20\u001b[39m \u001b[43m    \u001b[49m\u001b[43mtext\u001b[49m\u001b[43m,\u001b[49m\u001b[43m \u001b[49m\n\u001b[32m     21\u001b[39m \u001b[43m    \u001b[49m\u001b[43msampling_params\u001b[49m\u001b[43m=\u001b[49m\u001b[43msampling_params\u001b[49m\n\u001b[32m     22\u001b[39m \u001b[43m)\u001b[49m\n",
      "\u001b[36mFile \u001b[39m\u001b[32m~/Desktop/ai2-gemme3n-kaggle-hackathon/.venv/lib/python3.11/site-packages/unsloth/models/vision.py:232\u001b[39m, in \u001b[36munsloth_base_fast_generate\u001b[39m\u001b[34m(self, *args, **kwargs)\u001b[39m\n\u001b[32m    230\u001b[39m     kwargs.pop(\u001b[33m\"\u001b[39m\u001b[33mprompt_lookup_num_tokens\u001b[39m\u001b[33m\"\u001b[39m, \u001b[38;5;28;01mNone\u001b[39;00m)\n\u001b[32m    231\u001b[39m     \u001b[38;5;28;01mwith\u001b[39;00m torch.inference_mode(), autocaster:\n\u001b[32m--> \u001b[39m\u001b[32m232\u001b[39m         output = \u001b[38;5;28;43mself\u001b[39;49m\u001b[43m.\u001b[49m\u001b[43m_old_generate\u001b[49m\u001b[43m(\u001b[49m\u001b[43m*\u001b[49m\u001b[43margs\u001b[49m\u001b[43m,\u001b[49m\u001b[43m \u001b[49m\u001b[43m*\u001b[49m\u001b[43m*\u001b[49m\u001b[43mkwargs\u001b[49m\u001b[43m)\u001b[49m\n\u001b[32m    233\u001b[39m \u001b[38;5;28;01mfinally\u001b[39;00m:\n\u001b[32m    234\u001b[39m     \u001b[38;5;28;01mpass\u001b[39;00m\n",
      "\u001b[36mFile \u001b[39m\u001b[32m~/Desktop/ai2-gemme3n-kaggle-hackathon/.venv/lib/python3.11/site-packages/torch/utils/_contextlib.py:116\u001b[39m, in \u001b[36mcontext_decorator.<locals>.decorate_context\u001b[39m\u001b[34m(*args, **kwargs)\u001b[39m\n\u001b[32m    113\u001b[39m \u001b[38;5;129m@functools\u001b[39m.wraps(func)\n\u001b[32m    114\u001b[39m \u001b[38;5;28;01mdef\u001b[39;00m\u001b[38;5;250m \u001b[39m\u001b[34mdecorate_context\u001b[39m(*args, **kwargs):\n\u001b[32m    115\u001b[39m     \u001b[38;5;28;01mwith\u001b[39;00m ctx_factory():\n\u001b[32m--> \u001b[39m\u001b[32m116\u001b[39m         \u001b[38;5;28;01mreturn\u001b[39;00m \u001b[43mfunc\u001b[49m\u001b[43m(\u001b[49m\u001b[43m*\u001b[49m\u001b[43margs\u001b[49m\u001b[43m,\u001b[49m\u001b[43m \u001b[49m\u001b[43m*\u001b[49m\u001b[43m*\u001b[49m\u001b[43mkwargs\u001b[49m\u001b[43m)\u001b[49m\n",
      "\u001b[36mFile \u001b[39m\u001b[32m~/Desktop/ai2-gemme3n-kaggle-hackathon/.venv/lib/python3.11/site-packages/transformers/generation/utils.py:2375\u001b[39m, in \u001b[36mGenerationMixin.generate\u001b[39m\u001b[34m(self, inputs, generation_config, logits_processor, stopping_criteria, prefix_allowed_tokens_fn, synced_gpus, assistant_model, streamer, negative_prompt_ids, negative_prompt_attention_mask, use_model_defaults, custom_generate, **kwargs)\u001b[39m\n\u001b[32m   2370\u001b[39m assistant_tokenizer = kwargs.pop(\u001b[33m\"\u001b[39m\u001b[33massistant_tokenizer\u001b[39m\u001b[33m\"\u001b[39m, \u001b[38;5;28;01mNone\u001b[39;00m)  \u001b[38;5;66;03m# only used for assisted generation\u001b[39;00m\n\u001b[32m   2372\u001b[39m generation_config, model_kwargs = \u001b[38;5;28mself\u001b[39m._prepare_generation_config(\n\u001b[32m   2373\u001b[39m     generation_config, use_model_defaults, **kwargs\n\u001b[32m   2374\u001b[39m )\n\u001b[32m-> \u001b[39m\u001b[32m2375\u001b[39m \u001b[38;5;28;43mself\u001b[39;49m\u001b[43m.\u001b[49m\u001b[43m_validate_model_kwargs\u001b[49m\u001b[43m(\u001b[49m\u001b[43mmodel_kwargs\u001b[49m\u001b[43m.\u001b[49m\u001b[43mcopy\u001b[49m\u001b[43m(\u001b[49m\u001b[43m)\u001b[49m\u001b[43m)\u001b[49m\n\u001b[32m   2376\u001b[39m \u001b[38;5;28mself\u001b[39m._validate_assistant(assistant_model, tokenizer, assistant_tokenizer)\n\u001b[32m   2378\u001b[39m \u001b[38;5;66;03m# 2. Set generation parameters if not already defined\u001b[39;00m\n",
      "\u001b[36mFile \u001b[39m\u001b[32m~/Desktop/ai2-gemme3n-kaggle-hackathon/.venv/lib/python3.11/site-packages/transformers/generation/utils.py:1608\u001b[39m, in \u001b[36mGenerationMixin._validate_model_kwargs\u001b[39m\u001b[34m(self, model_kwargs)\u001b[39m\n\u001b[32m   1605\u001b[39m         unused_model_args.append(key)\n\u001b[32m   1607\u001b[39m \u001b[38;5;28;01mif\u001b[39;00m unused_model_args:\n\u001b[32m-> \u001b[39m\u001b[32m1608\u001b[39m     \u001b[38;5;28;01mraise\u001b[39;00m \u001b[38;5;167;01mValueError\u001b[39;00m(\n\u001b[32m   1609\u001b[39m         \u001b[33mf\u001b[39m\u001b[33m\"\u001b[39m\u001b[33mThe following `model_kwargs` are not used by the model: \u001b[39m\u001b[38;5;132;01m{\u001b[39;00munused_model_args\u001b[38;5;132;01m}\u001b[39;00m\u001b[33m (note: typos in the\u001b[39m\u001b[33m\"\u001b[39m\n\u001b[32m   1610\u001b[39m         \u001b[33m\"\u001b[39m\u001b[33m generate arguments will also show up in this list)\u001b[39m\u001b[33m\"\u001b[39m\n\u001b[32m   1611\u001b[39m     )\n",
      "\u001b[31mValueError\u001b[39m: The following `model_kwargs` are not used by the model: ['sampling_params'] (note: typos in the generate arguments will also show up in this list)"
     ]
    }
   ],
   "source": [
    "\n",
    "text = tokenizer.apply_chat_template(\n",
    "    [\n",
    "        {\"role\": \"system\", \"content\": SYSTEM_PROMPT},\n",
    "        {\"role\": \"user\", \"content\": \"Calculate pi.\"},\n",
    "    ],\n",
    "    tokenize=True,\n",
    "    add_generation_prompt=True,\n",
    "    return_tensors=\"pt\"\n",
    ").to('cuda')\n",
    "\n",
    "print(text)\n",
    "\n",
    "sampling_params = SamplingParams(\n",
    "    temperature=0.8,\n",
    "    top_p = 0.95,\n",
    "    max_tokens = 1024\n",
    ")\n",
    "\n",
    "output = model.generate(\n",
    "    text, \n",
    ")\n"
   ]
  },
  {
   "cell_type": "code",
   "execution_count": null,
   "id": "7d396f5d",
   "metadata": {},
   "outputs": [
    {
     "ename": "AssertionError",
     "evalue": "",
     "output_type": "error",
     "traceback": [
      "\u001b[31m---------------------------------------------------------------------------\u001b[39m",
      "\u001b[31mAssertionError\u001b[39m                            Traceback (most recent call last)",
      "\u001b[36mCell\u001b[39m\u001b[36m \u001b[39m\u001b[32mIn[23]\u001b[39m\u001b[32m, line 7\u001b[39m\n\u001b[32m      1\u001b[39m sampling_params = SamplingParams(\n\u001b[32m      2\u001b[39m     temperature=\u001b[32m0.8\u001b[39m,\n\u001b[32m      3\u001b[39m     top_p = \u001b[32m0.95\u001b[39m,\n\u001b[32m      4\u001b[39m     max_tokens = \u001b[32m1024\u001b[39m\n\u001b[32m      5\u001b[39m )\n\u001b[32m----> \u001b[39m\u001b[32m7\u001b[39m output = \u001b[43mmodel\u001b[49m\u001b[43m.\u001b[49m\u001b[43mgenerate\u001b[49m\u001b[43m(\u001b[49m\n\u001b[32m      8\u001b[39m \u001b[43m    \u001b[49m\u001b[43mtext\u001b[49m\u001b[43m,\u001b[49m\u001b[43m \u001b[49m\n\u001b[32m      9\u001b[39m \u001b[43m    \u001b[49m\u001b[43msampling_params\u001b[49m\u001b[43m \u001b[49m\u001b[43m=\u001b[49m\u001b[43m \u001b[49m\u001b[43msampling_params\u001b[49m\n\u001b[32m     10\u001b[39m \u001b[43m)\u001b[49m\n",
      "\u001b[36mFile \u001b[39m\u001b[32m~/Desktop/ai2-gemme3n-kaggle-hackathon/.venv/lib/python3.11/site-packages/unsloth/models/vision.py:111\u001b[39m, in \u001b[36munsloth_base_fast_generate\u001b[39m\u001b[34m(self, *args, **kwargs)\u001b[39m\n\u001b[32m    109\u001b[39m     input_ids = kwargs[key]\n\u001b[32m    110\u001b[39m \u001b[38;5;28;01mpass\u001b[39;00m\n\u001b[32m--> \u001b[39m\u001b[32m111\u001b[39m \u001b[38;5;28;01massert\u001b[39;00m(\u001b[38;5;28mtype\u001b[39m(input_ids) \u001b[38;5;129;01mis\u001b[39;00m torch.Tensor)\n\u001b[32m    112\u001b[39m bsz = input_ids.shape[\u001b[32m0\u001b[39m]\n\u001b[32m    114\u001b[39m FastBaseModel.for_inference(\u001b[38;5;28mself\u001b[39m)\n",
      "\u001b[31mAssertionError\u001b[39m: "
     ]
    }
   ],
   "source": []
  }
 ],
 "metadata": {
  "kernelspec": {
   "display_name": ".venv",
   "language": "python",
   "name": "python3"
  },
  "language_info": {
   "codemirror_mode": {
    "name": "ipython",
    "version": 3
   },
   "file_extension": ".py",
   "mimetype": "text/x-python",
   "name": "python",
   "nbconvert_exporter": "python",
   "pygments_lexer": "ipython3",
   "version": "3.11.7"
  }
 },
 "nbformat": 4,
 "nbformat_minor": 5
}
